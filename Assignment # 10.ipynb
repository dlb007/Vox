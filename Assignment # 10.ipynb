{
 "cells": [
  {
   "cell_type": "markdown",
   "metadata": {},
   "source": [
    "# Exercise 10: \n",
    "\n",
    "In this week's exercise, we will be working from the class demo. To use the live features, you'll need to get a Twitter account approved through the Developer Portal (Links to an external site.) as reviewed in class. If you can't get approval, you can use the alternate method of importing your data via TAGS (Links to an external site.)\n",
    "\n",
    "Your application should:\n",
    "\n",
    "- Import or collect tweets using a keyword or hashtag. Watch your rate limiting!\n",
    "- Use Pandas to sort and analyze your tweets.\n",
    "- Calculate user coordinates, where feasible, for the set of collected tweets. Again, watch your rate limiting!\n",
    "- Map the tweets using the calculated locations.\n",
    "- Use at least one data visualization from a previous exercise, demo, or the course text to analyze a different element of your tweets.\n",
    "\n",
    "As a bonus challenge, try to map some other quality of your data. For instance, you might only map the locations where a certain word or hashtag is used, or try to visualize the quantity of tweets that share a location using a larger radius dot.\n"
   ]
  },
  {
   "cell_type": "markdown",
   "metadata": {},
   "source": [
    "## Stage One: Import or collect tweets using a keyword or hashtag. Watch your rate limiting!\n"
   ]
  },
  {
   "cell_type": "code",
   "execution_count": null,
   "metadata": {},
   "outputs": [],
   "source": [
    "import configparser\n",
    "CONFIG = configparser.ConfigParser()\n",
    "CONFIG.read('credentials.ini')"
   ]
  },
  {
   "cell_type": "code",
   "execution_count": null,
   "metadata": {},
   "outputs": [],
   "source": [
    "import tweepy\n",
    "\n",
    "auth = tweepy.OAuthHandler(CONFIG['DEFAULT']['consumer_key'], CONFIG['DEFAULT']['consumer_secret'])\n",
    "auth.set_access_token(CONFIG['DEFAULT']['access_token'], CONFIG['DEFAULT']['access_token_secret'])\n",
    "\n",
    "api = tweepy.API(auth, wait_on_rate_limit=True)\n",
    "\n",
    "public_tweets = api.home_timeline()\n",
    "for tweet in public_tweets:\n",
    "    print(tweet.text)"
   ]
  },
  {
   "cell_type": "markdown",
   "metadata": {},
   "source": [
    "## Stage Two:  Use Pandas to sort and analyze your tweets."
   ]
  },
  {
   "cell_type": "code",
   "execution_count": null,
   "metadata": {},
   "outputs": [],
   "source": [
    "import pandas as pd\n",
    "\n",
    "search_words = \"#squidgame\"\n",
    "date_since = \"2021-10-01\"\n",
    "tweets = tweepy.Cursor(api.search_tweets,\n",
    "              q=search_words, lang=\"en\").items(300)\n",
    "\n",
    "tweets_sorted = [[tweet.user.screen_name, tweet.geo, tweet.user.location, tweet.text] for tweet in tweets]"
   ]
  },
  {
   "cell_type": "markdown",
   "metadata": {},
   "source": [
    "## Stage Three: Calculate user coordinates, where feasible, for the set of collected tweets. Again, watch your rate limiting! "
   ]
  },
  {
   "cell_type": "code",
   "execution_count": null,
   "metadata": {},
   "outputs": [],
   "source": [
    "tdf = pd.DataFrame(data=tweets_sorted, columns=['user', 'coordinates','location', 'tweet'])\n",
    "print(tdf)"
   ]
  },
  {
   "cell_type": "code",
   "execution_count": null,
   "metadata": {},
   "outputs": [],
   "source": [
    "locs = tdf['location'].value_counts()\n",
    "print(locs)"
   ]
  },
  {
   "cell_type": "markdown",
   "metadata": {},
   "source": [
    "## Stage Four:  Map the tweets using the calculated locations."
   ]
  },
  {
   "cell_type": "code",
   "execution_count": null,
   "metadata": {},
   "outputs": [],
   "source": [
    "from geopy.geocoders import Nominatim\n",
    "from geopy.extra.rate_limiter import RateLimiter\n",
    "\n",
    "geolocator = Nominatim(user_agent='twitter-analysis-client')\n",
    "limited = RateLimiter(geolocator.geocode, min_delay_seconds=1)\n",
    "\n",
    "def find_location(row):\n",
    "    place = row['location']\n",
    "    location = limited(place)\n",
    "    \n",
    "    if location != None:\n",
    "        return location.latitude, location.longitude\n",
    "    else:\n",
    "        return \"Not Found\", \"Not Found\"\n",
    "\n",
    "tdf[['latitude','longitude']] = tdf.apply(find_location, axis=\"columns\", result_type=\"expand\")\n",
    "tdf"
   ]
  },
  {
   "cell_type": "markdown",
   "metadata": {},
   "source": [
    "## Stage Five: Use at least one data visualization from a previous exercise, demo, or the course text to analyze a different element of your tweets."
   ]
  },
  {
   "cell_type": "code",
   "execution_count": null,
   "metadata": {},
   "outputs": [],
   "source": [
    "import matplotlib.pyplot as plt\n",
    "plt.style.use('fivethirtyeight')\n",
    "plt.rcParams.update({'font.size': 20})\n",
    "plt.rcParams['figure.figsize'] = (20, 10)"
   ]
  },
  {
   "cell_type": "markdown",
   "metadata": {},
   "source": [
    "## Bonus Challenge: Try to map some other quality of your data. For instance, you might only map the locations where a certain word or hashtag is used, or try to visualize the quantity of tweets that share a location using a larger radius dot.\n",
    "\n"
   ]
  },
  {
   "cell_type": "code",
   "execution_count": null,
   "metadata": {},
   "outputs": [],
   "source": [
    "import cartopy.crs as ccrs\n",
    "from matplotlib.patches import Circle\n",
    "\n",
    "lats = tdf['latitude'].dropna()\n",
    "longs = tdf['longitude'].dropna()\n",
    "\n",
    "ax = plt.axes(projection=ccrs.PlateCarree())\n",
    "ax.stock_img()\n",
    "    \n",
    "for i in range(0, len(lats)):\n",
    "    ax.plot(longs[i], lats[i], 'ro', transform=ccrs.PlateCarree())\n",
    "                                                                                              \n",
    "ax.coastlines(resolution='50m')\n",
    "ax.set_global()\n",
    "\n",
    "plt.show()"
   ]
  }
 ],
 "metadata": {
  "interpreter": {
   "hash": "598d64e08a06bfba065a99698ec5bbec753236817de80e4f3bcf221574aa140c"
  },
  "kernelspec": {
   "display_name": "Python 3.8.8 64-bit ('base': conda)",
   "name": "python3"
  },
  "language_info": {
   "codemirror_mode": {
    "name": "ipython",
    "version": 3
   },
   "file_extension": ".py",
   "mimetype": "text/x-python",
   "name": "python",
   "nbconvert_exporter": "python",
   "pygments_lexer": "ipython3",
   "version": "3.8.8"
  },
  "orig_nbformat": 4
 },
 "nbformat": 4,
 "nbformat_minor": 2
}
