{
 "cells": [
  {
   "cell_type": "markdown",
   "metadata": {},
   "source": [
    "# Exercise Nine: Numbers\n",
    "This week, I explored the GSS dataset introduced in the \"Social Stats\" exercise.  The challenge and journey were to use the demo introduced and text to help guide the process. In the beginning, I experimented with areas to explore and the year and fell into the space below, which may even be changed when you view do to the ongoing experimentation. (three or more new variables explored - 'race','relig','marital', 'agewed', 'divorce).  \n",
    "\n",
    "My workflow included:\n",
    "\n",
    "Importing the current version of the file (available for download at the link above) and isolating the columns of interest-based on the variables I chose to include.\n",
    "\n",
    "- Using the variable navigator provided by GSS, determine the years applicable and narrow your dataset accordingly.\n",
    "- Visualize at least two quantitative relationships or patterns: these might include connections between clear numerical values, such as age and income,\n",
    "  or more complex visualizations based on boolean data (for example, our \"yes\" and \"no\" to reading fiction.)\n",
    "- Group the data using at least two different divisions to spot exciting trends and plot at least one variance across a group (refer to our example of \n",
    "  happiness among fiction readers as a starting point.\n",
    "\n",
    "For a bonus challenge, I attempted running another analysis using an advanced method such as summary statistics or cross-tabulation.\n"
   ]
  },
  {
   "cell_type": "markdown",
   "metadata": {},
   "source": [
    "## Stage One: Imports and Narrows by Column and Year\n",
    "I imported the current version of the file (GSS7218_R1.dta) and isolated the columns of interest-based on the variables of the GSS survey data set results which are best received in the .dta over .stata (Karsdorp, Kestemont, Riddell 173). Also, it is essential to note that the \"Git Ignore\" option was used toward the huge .dta file to avoid any issues of stalling the process in this week's assignment and Visual Studio.  Two years were adjusted, including setting up comparables between the past 1972 and a more recent time 2016, which helped set the stage.\n",
    "\n"
   ]
  },
  {
   "cell_type": "code",
   "execution_count": 331,
   "metadata": {},
   "outputs": [
    {
     "name": "stdout",
     "output_type": "stream",
     "text": [
      "<bound method NDFrame.head of          id  year   age     sex   race       relig        marital agewed  \\\n",
      "0         1  1972  23.0  female  white      jewish  NEVER MARRIED    NaN   \n",
      "1         2  1972  70.0    male  white    catholic        married   21.0   \n",
      "2         3  1972  48.0  female  white  protestant        married   20.0   \n",
      "3         4  1972  27.0  female  white       other        married   24.0   \n",
      "4         5  1972  61.0  female  white  protestant        married   22.0   \n",
      "...     ...   ...   ...     ...    ...         ...            ...    ...   \n",
      "62461  2863  2016  57.0  female  white  protestant        married    NaN   \n",
      "62462  2864  2016  77.0    male  white  protestant        widowed    NaN   \n",
      "62463  2865  2016  87.0  female  white  protestant        married    NaN   \n",
      "62464  2866  2016  55.0  female  white    catholic        married    NaN   \n",
      "62465  2867  2016  72.0    male  white        none        married    NaN   \n",
      "\n",
      "      divorce  \n",
      "0         NaN  \n",
      "1          no  \n",
      "2          no  \n",
      "3          no  \n",
      "4          no  \n",
      "...       ...  \n",
      "62461      no  \n",
      "62462     yes  \n",
      "62463      no  \n",
      "62464      no  \n",
      "62465     yes  \n",
      "\n",
      "[4480 rows x 9 columns]>\n"
     ]
    }
   ],
   "source": [
    "import pandas as pd\n",
    "\n",
    "# we restrict this (very large) dataset to the variables of interest\n",
    "columns = ['id', 'year', 'age', 'sex', 'race','relig','marital', 'agewed', 'divorce']\n",
    "df = pd.read_stata(\"GSS7218_R1.dta\", columns=columns)\n",
    "\n",
    "# further limit dataset to the years we are interested in\n",
    "df = df.loc[df['year'].isin({1972, 2016})]\n",
    "print(df.head)"
   ]
  },
  {
   "cell_type": "markdown",
   "metadata": {},
   "source": [
    "In an attempt to help limit the dataset to exclude records from subjects who didn't answer the survey was enlisted to clean the process. Initially, I attempted to remove subjects with loss of value for 'age,' but experimented and enhanced the process using the discovered component of wed age, 'agewed.'"
   ]
  },
  {
   "cell_type": "code",
   "execution_count": 292,
   "metadata": {},
   "outputs": [
    {
     "name": "stdout",
     "output_type": "stream",
     "text": [
      "<bound method NDFrame.head of         id  year   age     sex   race       relig   marital agewed divorce\n",
      "1        2  1972  70.0    male  white    catholic   married   21.0      no\n",
      "2        3  1972  48.0  female  white  protestant   married   20.0      no\n",
      "3        4  1972  27.0  female  white       other   married   24.0      no\n",
      "4        5  1972  61.0  female  white  protestant   married   22.0      no\n",
      "6        7  1972  28.0    male  white    catholic  divorced   22.0     NaN\n",
      "...    ...   ...   ...     ...    ...         ...       ...    ...     ...\n",
      "1608  1609  1972  69.0  female  white  protestant   married   17.0      no\n",
      "1609  1610  1972  74.0  female  white  protestant   widowed   18.0      no\n",
      "1610  1611  1972  35.0    male  white    catholic   married   18.0      no\n",
      "1611  1612  1972  22.0    male  white       other   married   21.0      no\n",
      "1612  1613  1972  35.0    male  white  protestant   married   24.0     yes\n",
      "\n",
      "[1395 rows x 9 columns]>\n"
     ]
    }
   ],
   "source": [
    "\n",
    "df = df.loc[df['marital'].notna()]\n",
    "\n",
    "df = df.loc[df['agewed'].notna()]\n",
    "print(df.head)"
   ]
  },
  {
   "cell_type": "markdown",
   "metadata": {},
   "source": [
    "## Stage Two: Visualize Two Quantitative Aspects of the Data\n",
    "\n",
    "Enhancing the thoughts toward visualization, I experimented with two opposing quantitative relationships to enable patterns to grow. First, marriage and marital age were used to help draw in connections between the known numerical values, 'agewed' and marital status 'marital.' Secondly, bringing more zest to the journey and exploration was the complexity toward visualizing with the use of \"boolean data\" using, in this case, the explanation of questioning toward an answer of \"yes\" and \"no\" toward the 'divorce' space direction.\n",
    "\n"
   ]
  },
  {
   "cell_type": "markdown",
   "metadata": {},
   "source": [
    "### #1\n",
    "With the use of the variable navigator provided by GSS, this choice with the use of 'agewed' was able to determine the years applicable to the interest and enable a way to narrow the dataset nicely while locating a data set 'mean' (22.1498) in 'agewed' age.  A workable quantitative prospect to explore that helped avoid the issue in the demo \"df = df.replace()\" need. And with the pursuit of \"The second widely used summary statistic is the median\" (Karsdorp, Kestemont, Riddell 177), which carries on the median (middle) value.\n"
   ]
  },
  {
   "cell_type": "code",
   "execution_count": 293,
   "metadata": {},
   "outputs": [
    {
     "name": "stdout",
     "output_type": "stream",
     "text": [
      "22.149820788530466\n"
     ]
    },
    {
     "data": {
      "image/png": "[encoded data removed]",
      "text/plain": [
       "<Figure size 432x288 with 1 Axes>"
      ]
     },
     "metadata": {
      "needs_background": "light"
     },
     "output_type": "display_data"
    }
   ],
   "source": [
    "\n",
    "df['agewed'] = pd.to_numeric(df['agewed'])\n",
    "print(df['agewed'].mean())\n",
    "\n",
    "import matplotlib.pyplot as plt\n",
    "df.groupby('marital')['agewed'].mean().plot(kind='barh')\n",
    "plt.xlabel('Mean Agewed by Highest Degree')\n",
    "plt.legend();"
   ]
  },
  {
   "cell_type": "markdown",
   "metadata": {},
   "source": [
    "### #2\n",
    "And for symbolic reference with alternative visual, the use of the negative component of marriage 'divorce' was used to create a pie chard semblance counter with \"performance_counts = df['divorce'].value_counts().\"  Allowing for the reference exploration toward the use of \"Yes\" vs. \"No\" to help counteract the research exploration of the data."
   ]
  },
  {
   "cell_type": "code",
   "execution_count": 296,
   "metadata": {},
   "outputs": [
    {
     "data": {
      "image/png": "[encoded data removed]",
      "text/plain": [
       "<Figure size 432x288 with 1 Axes>"
      ]
     },
     "metadata": {},
     "output_type": "display_data"
    }
   ],
   "source": [
    "\n",
    "performance_counts = df['divorce'].value_counts()\n",
    "labels=[\"Yes\",\"No\"]\n",
    "colors=[\"#ff9999\",\"#99ff99\"]\n",
    "explode = (0, 0.1)\n",
    "fig1, ax1 = plt.subplots()\n",
    "ax1.pie(performance_counts, explode=explode, labels=labels, colors=colors, autopct='%1.1f%%', shadow=True, startangle=90)\n",
    "ax1.axis('equal')  \n",
    "plt.tight_layout()\n",
    "plt.show()"
   ]
  },
  {
   "cell_type": "markdown",
   "metadata": {},
   "source": [
    "## Stage Three: Use Groupby to Spot Additional Trends\n",
    "The use of \"Groupby\" expanded the process and service of code beyond what I intended.  Religion areas of focus brought in the use of data toward 'age' representation in the organizational aspects. Here \"exhibition_religion\" with the \"df.groupby\" focus of 'relig' and 'age' showed value.\n",
    "\n"
   ]
  },
  {
   "cell_type": "code",
   "execution_count": 312,
   "metadata": {},
   "outputs": [
    {
     "data": {
      "text/plain": [
       "relig                               \n",
       "protestant               30.0           29\n",
       "                         49.0           28\n",
       "                         45.0           27\n",
       "                         60.0           24\n",
       "                         29.0           23\n",
       "                                        ..\n",
       "INTER-NONDENOMINATIONAL  41.0            0\n",
       "                         40.0            0\n",
       "                         39.0            0\n",
       "                         38.0            0\n",
       "                         89 OR OLDER     0\n",
       "Name: age, Length: 936, dtype: int64"
      ]
     },
     "execution_count": 312,
     "metadata": {},
     "output_type": "execute_result"
    }
   ],
   "source": [
    "\n",
    "exhibition_religion = df.groupby('relig')['age'].value_counts()\n",
    "exhibition_religion"
   ]
  },
  {
   "cell_type": "markdown",
   "metadata": {},
   "source": [
    "Furthermore, even though some of the areas of focus lost value, the upper use of \"Groupby\" within \"Protestant\" to \"Jewish\" was realized and helped to expand the service of code beyond what initially was intended.  "
   ]
  },
  {
   "cell_type": "code",
   "execution_count": 318,
   "metadata": {},
   "outputs": [
    {
     "data": {
      "text/plain": [
       "divorce        \n",
       "yes      female     97\n",
       "         male       85\n",
       "no       male      539\n",
       "         female    535\n",
       "Name: sex, dtype: int64"
      ]
     },
     "execution_count": 318,
     "metadata": {},
     "output_type": "execute_result"
    }
   ],
   "source": [
    "\n",
    "exhibition_gender = df.groupby('divorce')['sex'].value_counts()\n",
    "exhibition_gender"
   ]
  },
  {
   "cell_type": "markdown",
   "metadata": {},
   "source": [
    "Continued rouping and experimenting with data alternating use at times with opposing different divisions enabled value toward pinpointing hidden trends. Here 'divorce' and \"marital' and even the introduction of 'relig' move a variance across a group of defined areas of data."
   ]
  },
  {
   "cell_type": "code",
   "execution_count": 319,
   "metadata": {},
   "outputs": [
    {
     "data": {
      "image/png": "[encoded data removed]",
      "text/plain": [
       "<Figure size 432x288 with 1 Axes>"
      ]
     },
     "metadata": {},
     "output_type": "display_data"
    }
   ],
   "source": [
    "\n",
    "import matplotlib.pyplot as plt\n",
    " \n",
    "# Data to plot\n",
    "labels = ['Left Marriage','Stayed Married']\n",
    "exhibition_counts = df['divorce'].value_counts()\n",
    "labels_gender = ['Female','Male','Female','Male']\n",
    "colors = ['#ff6666', '#ffcc99', '#99ff99', '#66b3ff']\n",
    "colors_gender = ['#c2c2f0','#ffb3e6', '#c2c2f0','#ffb3e6']\n",
    " \n",
    "# Plot\n",
    "plt.pie(exhibition_counts, labels=labels, colors=colors, startangle=90,frame=True)\n",
    "plt.pie(exhibition_gender, labels=labels_gender, colors=colors_gender,radius=0.75,startangle=90)\n",
    "centre_circle = plt.Circle((0,0),0.5,color='black', fc='white',linewidth=0)\n",
    "fig = plt.gcf()\n",
    "fig.gca().add_artist(centre_circle)\n",
    " \n",
    "plt.axis('equal')\n",
    "plt.tight_layout()\n",
    "plt.show()"
   ]
  },
  {
   "cell_type": "code",
   "execution_count": 327,
   "metadata": {},
   "outputs": [
    {
     "data": {
      "image/png": "[encoded data removed]",
      "text/plain": [
       "<Figure size 432x288 with 1 Axes>"
      ]
     },
     "metadata": {
      "needs_background": "light"
     },
     "output_type": "display_data"
    }
   ],
   "source": [
    "df['relig'] = df['relig'].replace(['No', 'Yes'], [0, 1])\n",
    "df['divorce'] = df['divorce'].replace(['No', 'Yes'], [0, 1])\n",
    "df.head()\n",
    "\n",
    "df.groupby('marital')['agewed'].mean().plot(kind='barh')\n",
    "plt.xlabel('Wed Age Mean of Mariage factors')\n",
    "plt.legend();"
   ]
  },
  {
   "cell_type": "code",
   "execution_count": 330,
   "metadata": {},
   "outputs": [
    {
     "data": {
      "image/png": "[encoded data removed]",
      "text/plain": [
       "<Figure size 432x288 with 1 Axes>"
      ]
     },
     "metadata": {
      "needs_background": "light"
     },
     "output_type": "display_data"
    }
   ],
   "source": [
    "df.groupby('divorce')['agewed'].mean().plot(kind='barh')\n",
    "plt.xlabel('Mariage Wins Stabilized Mean by Positive Data')\n",
    "plt.legend();"
   ]
  }
 ],
 "metadata": {
  "interpreter": {
   "hash": "598d64e08a06bfba065a99698ec5bbec753236817de80e4f3bcf221574aa140c"
  },
  "kernelspec": {
   "display_name": "Python 3.8.11 64-bit ('base': conda)",
   "name": "python3"
  },
  "language_info": {
   "codemirror_mode": {
    "name": "ipython",
    "version": 3
   },
   "file_extension": ".py",
   "mimetype": "text/x-python",
   "name": "python",
   "nbconvert_exporter": "python",
   "pygments_lexer": "ipython3",
   "version": "3.8.11"
  },
  "orig_nbformat": 4
 },
 "nbformat": 4,
 "nbformat_minor": 2
}
