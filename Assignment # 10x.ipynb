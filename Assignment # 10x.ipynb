{
 "cells": [
  {
   "cell_type": "markdown",
   "metadata": {},
   "source": [
    "# Exercise 10: \n",
    "\n",
    "In this week's exercise, we will be working from the class demo. To use the live features, you'll need to get a Twitter account approved through the Developer Portal (Links to an external site.) as reviewed in class. If you can't get approval, you can use the alternate method of importing your data via TAGS (Links to an external site.)\n",
    "\n",
    "Your application should:\n",
    "\n",
    "- Import or collect tweets using a keyword or hashtag. Watch your rate limiting!\n",
    "- Use Pandas to sort and analyze your tweets.\n",
    "- Calculate user coordinates, where feasible, for the set of collected tweets. Again, watch your rate limiting!\n",
    "- Map the tweets using the calculated locations.\n",
    "- Use at least one data visualization from a previous exercise, demo, or the course text to analyze a different element of your tweets.\n",
    "\n",
    "As a bonus challenge, try to map some other quality of your data. For instance, you might only map the locations where a certain word or hashtag is used, or try to visualize the quantity of tweets that share a location using a larger radius dot.\n",
    "\n",
    "Note: Twitter account new with no history.\n"
   ]
  },
  {
   "cell_type": "markdown",
   "metadata": {},
   "source": [
    "## Stage One: Import or collect tweets using a keyword or hashtag. Watch your rate limiting!\n"
   ]
  },
  {
   "cell_type": "code",
   "execution_count": 21,
   "metadata": {},
   "outputs": [
    {
     "name": "stdout",
     "output_type": "stream",
     "text": [
      "tweet_id                          int64\n",
      "airline_sentiment                object\n",
      "airline_sentiment_confidence    float64\n",
      "negativereason                   object\n",
      "negativereason_confidence       float64\n",
      "airline                          object\n",
      "airline_sentiment_gold           object\n",
      "name                             object\n",
      "negativereason_gold              object\n",
      "retweet_count                     int64\n",
      "text                             object\n",
      "tweet_coord                      object\n",
      "tweet_created                    object\n",
      "tweet_location                   object\n",
      "user_timezone                    object\n",
      "dtype: object\n"
     ]
    }
   ],
   "source": [
    "\n",
    "import pandas as pd\n",
    "\n",
    "df = pd.read_csv('Tweets.csv')\n",
    "print(df.dtypes)"
   ]
  },
  {
   "cell_type": "code",
   "execution_count": 22,
   "metadata": {},
   "outputs": [
    {
     "name": "stdout",
     "output_type": "stream",
     "text": [
      "                 tweet_id airline_sentiment  airline_sentiment_confidence  \\\n",
      "0      570306133677760513           neutral                        1.0000   \n",
      "1      570301130888122368          positive                        0.3486   \n",
      "2      570301083672813571           neutral                        0.6837   \n",
      "3      570301031407624196          negative                        1.0000   \n",
      "4      570300817074462722          negative                        1.0000   \n",
      "...                   ...               ...                           ...   \n",
      "14635  569587686496825344          positive                        0.3487   \n",
      "14636  569587371693355008          negative                        1.0000   \n",
      "14637  569587242672398336           neutral                        1.0000   \n",
      "14638  569587188687634433          negative                        1.0000   \n",
      "14639  569587140490866689           neutral                        0.6771   \n",
      "\n",
      "               negativereason  negativereason_confidence         airline  \\\n",
      "0                         NaN                        NaN  Virgin America   \n",
      "1                         NaN                     0.0000  Virgin America   \n",
      "2                         NaN                        NaN  Virgin America   \n",
      "3                  Bad Flight                     0.7033  Virgin America   \n",
      "4                  Can't Tell                     1.0000  Virgin America   \n",
      "...                       ...                        ...             ...   \n",
      "14635                     NaN                     0.0000        American   \n",
      "14636  Customer Service Issue                     1.0000        American   \n",
      "14637                     NaN                        NaN        American   \n",
      "14638  Customer Service Issue                     0.6659        American   \n",
      "14639                     NaN                     0.0000        American   \n",
      "\n",
      "      airline_sentiment_gold             name negativereason_gold  \\\n",
      "0                        NaN          cairdin                 NaN   \n",
      "1                        NaN         jnardino                 NaN   \n",
      "2                        NaN       yvonnalynn                 NaN   \n",
      "3                        NaN         jnardino                 NaN   \n",
      "4                        NaN         jnardino                 NaN   \n",
      "...                      ...              ...                 ...   \n",
      "14635                    NaN  KristenReenders                 NaN   \n",
      "14636                    NaN         itsropes                 NaN   \n",
      "14637                    NaN         sanyabun                 NaN   \n",
      "14638                    NaN       SraJackson                 NaN   \n",
      "14639                    NaN        daviddtwu                 NaN   \n",
      "\n",
      "       retweet_count                                               text  \\\n",
      "0                  0                @VirginAmerica What @dhepburn said.   \n",
      "1                  0  @VirginAmerica plus you've added commercials t...   \n",
      "2                  0  @VirginAmerica I didn't today... Must mean I n...   \n",
      "3                  0  @VirginAmerica it's really aggressive to blast...   \n",
      "4                  0  @VirginAmerica and it's a really big bad thing...   \n",
      "...              ...                                                ...   \n",
      "14635              0  @AmericanAir thank you we got on a different f...   \n",
      "14636              0  @AmericanAir leaving over 20 minutes Late Flig...   \n",
      "14637              0  @AmericanAir Please bring American Airlines to...   \n",
      "14638              0  @AmericanAir you have my money, you change my ...   \n",
      "14639              0  @AmericanAir we have 8 ppl so we need 2 know h...   \n",
      "\n",
      "      tweet_coord              tweet_created tweet_location  \\\n",
      "0             NaN  2015-02-24 11:35:52 -0800            NaN   \n",
      "1             NaN  2015-02-24 11:15:59 -0800            NaN   \n",
      "2             NaN  2015-02-24 11:15:48 -0800      Lets Play   \n",
      "3             NaN  2015-02-24 11:15:36 -0800            NaN   \n",
      "4             NaN  2015-02-24 11:14:45 -0800            NaN   \n",
      "...           ...                        ...            ...   \n",
      "14635         NaN  2015-02-22 12:01:01 -0800            NaN   \n",
      "14636         NaN  2015-02-22 11:59:46 -0800          Texas   \n",
      "14637         NaN  2015-02-22 11:59:15 -0800  Nigeria,lagos   \n",
      "14638         NaN  2015-02-22 11:59:02 -0800     New Jersey   \n",
      "14639         NaN  2015-02-22 11:58:51 -0800     dallas, TX   \n",
      "\n",
      "                    user_timezone  \n",
      "0      Eastern Time (US & Canada)  \n",
      "1      Pacific Time (US & Canada)  \n",
      "2      Central Time (US & Canada)  \n",
      "3      Pacific Time (US & Canada)  \n",
      "4      Pacific Time (US & Canada)  \n",
      "...                           ...  \n",
      "14635                         NaN  \n",
      "14636                         NaN  \n",
      "14637                         NaN  \n",
      "14638  Eastern Time (US & Canada)  \n",
      "14639                         NaN  \n",
      "\n",
      "[14640 rows x 15 columns]\n"
     ]
    }
   ],
   "source": [
    "itdf = df[['user_timezone', 'name','tweet_location']]\n",
    "print(df)"
   ]
  },
  {
   "cell_type": "markdown",
   "metadata": {},
   "source": [
    "open strettt methods - .5 adaptation or change and play with this time until it works."
   ]
  },
  {
   "cell_type": "code",
   "execution_count": null,
   "metadata": {},
   "outputs": [],
   "source": [
    "from geopy.geocoders import Nominatim\n",
    "from geopy.extra.rate_limiter import RateLimiter\n",
    "\n",
    "geolocator = Nominatim(user_agent='twitter-analysis-client')\n",
    "limited = RateLimiter(geolocator.geocode, min_delay_seconds=.5)\n",
    "\n",
    "def find_location(row):\n",
    "    place = row['tweet_location']\n",
    "    location = limited(place)\n",
    "    \n",
    "    if location != None:\n",
    "        return location.latitude, location.longitude\n",
    "    else:\n",
    "        return \"Not Found\", \"Not Found\"\n",
    "\n",
    "tdf[['latitude','longitude']] = tdf.apply(find_location, axis=\"columns\", result_type=\"expand\")\n",
    "tdf"
   ]
  },
  {
   "cell_type": "code",
   "execution_count": null,
   "metadata": {},
   "outputs": [],
   "source": [
    "\n",
    "\n",
    "import matplotlib.pyplot as plt\n",
    "plt.style.use('dark_background')\n",
    "plt.rcParams.update({'font.size': 20})\n",
    "plt.rcParams['figure.figsize'] = (20, 10)"
   ]
  },
  {
   "cell_type": "code",
   "execution_count": null,
   "metadata": {},
   "outputs": [],
   "source": [
    "\n",
    "tdf = tdf[tdf['latitude'] != 'Not Found']\n",
    "tdf = tdf[tdf['longitude'] != 'Not Found']\n",
    "\n",
    "lats = tdf['latitude']\n",
    "longs = tdf['longitude']\n",
    "\n",
    "print(lats)\n",
    "print(longs)"
   ]
  },
  {
   "cell_type": "markdown",
   "metadata": {},
   "source": [
    "after data disinfecting with the NaH's then "
   ]
  },
  {
   "cell_type": "code",
   "execution_count": null,
   "metadata": {},
   "outputs": [],
   "source": [
    "\n",
    "lats.index=range(0,len(lats))\n",
    "longs.index=range(0,len(longs))\n",
    "\n",
    "print(lats)"
   ]
  },
  {
   "cell_type": "markdown",
   "metadata": {},
   "source": [
    "now we can plot -cone solution and the bous challenge -chart of user interaction."
   ]
  },
  {
   "cell_type": "code",
   "execution_count": null,
   "metadata": {},
   "outputs": [],
   "source": [
    "import cartopy.crs as ccrs\n",
    "from matplotlib.patches import Circle\n",
    "\n",
    "ax = plt.axes(projection=ccrs.PlateCarree())\n",
    "ax.stock_img()\n",
    "    \n",
    "for i in range(0, len(lats)):\n",
    "    ax.plot(longs[i], lats[i], 'ro', transform=ccrs.PlateCarree())\n",
    "                                                                                    \n",
    "ax.coastlines(resolution='50m')\n",
    "ax.set_global()\n",
    "\n",
    "plt.show()"
   ]
  },
  {
   "cell_type": "markdown",
   "metadata": {},
   "source": [
    "checking for exact matching. Where users have given the location of the same interaction. Reset location to help map. Orginal point and these concentrations.  Dat set."
   ]
  },
  {
   "cell_type": "code",
   "execution_count": null,
   "metadata": {},
   "outputs": [],
   "source": [
    "counter = tdf.groupby(['latitude','longitude']).size().reset_index().rename(columns={0:'count'})\n",
    "\n",
    "print(counter)"
   ]
  },
  {
   "cell_type": "markdown",
   "metadata": {},
   "source": [
    "helps us the define the circle we draw based on data. data ploting horizontal and verticle choice."
   ]
  },
  {
   "cell_type": "code",
   "execution_count": null,
   "metadata": {},
   "outputs": [],
   "source": [
    "ax = plt.axes(projection=ccrs.PlateCarree())\n",
    "ax.stock_img()\n",
    "# plot individual locations                                                                                                       \n",
    "for i in range(0, len(lats)):\n",
    "    ax.plot(longs[i], lats[i], 'ro', transform=ccrs.PlateCarree())\n",
    "                           \n",
    "# add coastlines for reference                                                                                                \n",
    "ax.coastlines(resolution='50m')\n",
    "ax.set_global()\n",
    "def get_radius(freq):\n",
    "    if freq < 5:\n",
    "        return 1\n",
    "    elif freq < 10:\n",
    "        return 2\n",
    "    elif freq >= 10:\n",
    "        return 3\n",
    "# plot count of tweets per location\n",
    "\n",
    "colLats = counter['latitude']\n",
    "colLongs = counter['longitude']\n",
    "colCounts = counter['count']\n",
    "\n",
    "\n",
    "## this line draws the circle\n",
    "for i in range(0, len(counter)):\n",
    "    ax.add_patch(Circle(xy=[colLongs[i], colLats[i]], radius=get_radius(colCounts[i]), color='blue',alpha=0.5, transform=ccrs.PlateCarree()))\n",
    "\n",
    "plt.show()"
   ]
  },
  {
   "cell_type": "markdown",
   "metadata": {},
   "source": [
    "## Stage Two:  Use Pandas to sort and analyze your tweets."
   ]
  },
  {
   "cell_type": "markdown",
   "metadata": {},
   "source": [
    "## Stage Three: Calculate user coordinates, where feasible, for the set of collected tweets. Again, watch your rate limiting! "
   ]
  },
  {
   "cell_type": "markdown",
   "metadata": {},
   "source": [
    "## Stage Four:  Map the tweets using the calculated locations."
   ]
  },
  {
   "cell_type": "markdown",
   "metadata": {},
   "source": [
    "## Stage Five: Use at least one data visualization from a previous exercise, demo, or the course text to analyze a different element of your tweets."
   ]
  },
  {
   "cell_type": "markdown",
   "metadata": {},
   "source": [
    "## Bonus Challenge: Try to map some other quality of your data. For instance, you might only map the locations where a certain word or hashtag is used, or try to visualize the quantity of tweets that share a location using a larger radius dot.\n",
    "\n"
   ]
  }
 ],
 "metadata": {
  "interpreter": {
   "hash": "598d64e08a06bfba065a99698ec5bbec753236817de80e4f3bcf221574aa140c"
  },
  "kernelspec": {
   "display_name": "Python 3.8.11 64-bit ('base': conda)",
   "name": "python3"
  },
  "language_info": {
   "codemirror_mode": {
    "name": "ipython",
    "version": 3
   },
   "file_extension": ".py",
   "mimetype": "text/x-python",
   "name": "python",
   "nbconvert_exporter": "python",
   "pygments_lexer": "ipython3",
   "version": "3.8.11"
  },
  "orig_nbformat": 4
 },
 "nbformat": 4,
 "nbformat_minor": 2
}
