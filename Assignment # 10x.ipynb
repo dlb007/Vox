{
 "cells": [
  {
   "cell_type": "markdown",
   "metadata": {},
   "source": [
    "# Exercise 10: \n",
    "\n",
    "In this week's exercise, we will be working from the class demo. To use the live features, you'll need to get a Twitter account approved through the Developer Portal (Links to an external site.) as reviewed in class. If you can't get approval, you can use the alternate method of importing your data via TAGS (Links to an external site.)\n",
    "\n",
    "Your application should:\n",
    "\n",
    "- Import or collect tweets using a keyword or hashtag. Watch your rate limiting!\n",
    "- Use Pandas to sort and analyze your tweets.\n",
    "- Calculate user coordinates, where feasible, for the set of collected tweets. Again, watch your rate limiting!\n",
    "- Map the tweets using the calculated locations.\n",
    "- Use at least one data visualization from a previous exercise, demo, or the course text to analyze a different element of your tweets.\n",
    "\n",
    "As a bonus challenge, try to map some other quality of your data. For instance, you might only map the locations where a certain word or hashtag is used, or try to visualize the quantity of tweets that share a location using a larger radius dot.\n",
    "\n",
    "Note: Twitter account new with no history.\n"
   ]
  },
  {
   "cell_type": "markdown",
   "metadata": {},
   "source": [
    "## Stage One: Import or collect tweets using a keyword or hashtag. Watch your rate limiting!\n"
   ]
  },
  {
   "cell_type": "code",
   "execution_count": null,
   "metadata": {},
   "outputs": [],
   "source": [
    "\n",
    "import pandas as pd\n",
    "\n",
    "df = pd.read_csv('NFTtweets.csv')\n",
    "print(df.dtypes)"
   ]
  },
  {
   "cell_type": "code",
   "execution_count": null,
   "metadata": {},
   "outputs": [],
   "source": [
    "itdf = df[['from_user', 'user_location','text']]\n",
    "print(tdf)"
   ]
  },
  {
   "cell_type": "markdown",
   "metadata": {},
   "source": [
    "open strettt methods - .5 adaptation or change and play with this time until it works."
   ]
  },
  {
   "cell_type": "code",
   "execution_count": null,
   "metadata": {},
   "outputs": [],
   "source": [
    "from geopy.geocoders import Nominatim\n",
    "from geopy.extra.rate_limiter import RateLimiter\n",
    "\n",
    "geolocator = Nominatim(user_agent='twitter-analysis-client')\n",
    "limited = RateLimiter(geolocator.geocode, min_delay_seconds=.5)\n",
    "\n",
    "def find_location(row):\n",
    "    place = row['user_location']\n",
    "    location = limited(place)\n",
    "    \n",
    "    if location != None:\n",
    "        return location.latitude, location.longitude\n",
    "    else:\n",
    "        return \"Not Found\", \"Not Found\"\n",
    "\n",
    "tdf[['latitude','longitude']] = tdf.apply(find_location, axis=\"columns\", result_type=\"expand\")\n",
    "tdf"
   ]
  },
  {
   "cell_type": "code",
   "execution_count": null,
   "metadata": {},
   "outputs": [],
   "source": [
    "\n",
    "\n",
    "import matplotlib.pyplot as plt\n",
    "plt.style.use('dark_background')\n",
    "plt.rcParams.update({'font.size': 20})\n",
    "plt.rcParams['figure.figsize'] = (20, 10)"
   ]
  },
  {
   "cell_type": "code",
   "execution_count": null,
   "metadata": {},
   "outputs": [],
   "source": [
    "\n",
    "tdf = tdf[tdf['latitude'] != 'Not Found']\n",
    "tdf = tdf[tdf['longitude'] != 'Not Found']\n",
    "\n",
    "lats = tdf['latitude']\n",
    "longs = tdf['longitude']\n",
    "\n",
    "print(lats)\n",
    "print(longs)"
   ]
  },
  {
   "cell_type": "markdown",
   "metadata": {},
   "source": [
    "after data disinfecting with the NaH's then "
   ]
  },
  {
   "cell_type": "code",
   "execution_count": null,
   "metadata": {},
   "outputs": [],
   "source": [
    "\n",
    "lats.index=range(0,len(lats))\n",
    "longs.index=range(0,len(longs))\n",
    "\n",
    "print(lats)"
   ]
  },
  {
   "cell_type": "markdown",
   "metadata": {},
   "source": [
    "now we can plot -cone solution and the bous challenge -chart of user interaction."
   ]
  },
  {
   "cell_type": "code",
   "execution_count": null,
   "metadata": {},
   "outputs": [],
   "source": [
    "import cartopy.crs as ccrs\n",
    "from matplotlib.patches import Circle\n",
    "\n",
    "ax = plt.axes(projection=ccrs.PlateCarree())\n",
    "ax.stock_img()\n",
    "    \n",
    "for i in range(0, len(lats)):\n",
    "    ax.plot(longs[i], lats[i], 'ro', transform=ccrs.PlateCarree())\n",
    "                                                                                    \n",
    "ax.coastlines(resolution='50m')\n",
    "ax.set_global()\n",
    "\n",
    "plt.show()"
   ]
  },
  {
   "cell_type": "markdown",
   "metadata": {},
   "source": [
    "checking for exact matching. Where users have given the location of the same interaction. Reset location to help map. Orginal point and these concentrations.  Dat set."
   ]
  },
  {
   "cell_type": "code",
   "execution_count": null,
   "metadata": {},
   "outputs": [],
   "source": [
    "counter = tdf.groupby(['latitude','longitude']).size().reset_index().rename(columns={0:'count'})\n",
    "\n",
    "print(counter)"
   ]
  },
  {
   "cell_type": "markdown",
   "metadata": {},
   "source": [
    "helps us the define the circle we draw based on data. data ploting horizontal and verticle choice."
   ]
  },
  {
   "cell_type": "code",
   "execution_count": null,
   "metadata": {},
   "outputs": [],
   "source": [
    "ax = plt.axes(projection=ccrs.PlateCarree())\n",
    "ax.stock_img()\n",
    "# plot individual locations                                                                                                       \n",
    "for i in range(0, len(lats)):\n",
    "    ax.plot(longs[i], lats[i], 'ro', transform=ccrs.PlateCarree())\n",
    "                           \n",
    "# add coastlines for reference                                                                                                \n",
    "ax.coastlines(resolution='50m')\n",
    "ax.set_global()\n",
    "def get_radius(freq):\n",
    "    if freq < 5:\n",
    "        return 1\n",
    "    elif freq < 10:\n",
    "        return 2\n",
    "    elif freq >= 10:\n",
    "        return 3\n",
    "# plot count of tweets per location\n",
    "\n",
    "colLats = counter['latitude']\n",
    "colLongs = counter['longitude']\n",
    "colCounts = counter['count']\n",
    "\n",
    "\n",
    "## this line draws the circle\n",
    "for i in range(0, len(counter)):\n",
    "    ax.add_patch(Circle(xy=[colLongs[i], colLats[i]], radius=get_radius(colCounts[i]), color='blue',alpha=0.5, transform=ccrs.PlateCarree()))\n",
    "\n",
    "plt.show()"
   ]
  },
  {
   "cell_type": "markdown",
   "metadata": {},
   "source": [
    "## Stage Two:  Use Pandas to sort and analyze your tweets."
   ]
  },
  {
   "cell_type": "markdown",
   "metadata": {},
   "source": [
    "## Stage Three: Calculate user coordinates, where feasible, for the set of collected tweets. Again, watch your rate limiting! "
   ]
  },
  {
   "cell_type": "markdown",
   "metadata": {},
   "source": [
    "## Stage Four:  Map the tweets using the calculated locations."
   ]
  },
  {
   "cell_type": "markdown",
   "metadata": {},
   "source": [
    "## Stage Five: Use at least one data visualization from a previous exercise, demo, or the course text to analyze a different element of your tweets."
   ]
  },
  {
   "cell_type": "markdown",
   "metadata": {},
   "source": [
    "## Bonus Challenge: Try to map some other quality of your data. For instance, you might only map the locations where a certain word or hashtag is used, or try to visualize the quantity of tweets that share a location using a larger radius dot.\n",
    "\n"
   ]
  }
 ],
 "metadata": {
  "interpreter": {
   "hash": "598d64e08a06bfba065a99698ec5bbec753236817de80e4f3bcf221574aa140c"
  },
  "kernelspec": {
   "display_name": "Python 3.8.8 64-bit ('base': conda)",
   "name": "python3"
  },
  "language_info": {
   "codemirror_mode": {
    "name": "ipython",
    "version": 3
   },
   "file_extension": ".py",
   "mimetype": "text/x-python",
   "name": "python",
   "nbconvert_exporter": "python",
   "pygments_lexer": "ipython3",
   "version": "3.8.8"
  },
  "orig_nbformat": 4
 },
 "nbformat": 4,
 "nbformat_minor": 2
}
