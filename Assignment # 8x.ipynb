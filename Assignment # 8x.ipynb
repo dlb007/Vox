{
 "cells": [
  {
   "cell_type": "markdown",
   "metadata": {},
   "source": [
    "# Exercise Eight: Cultural Data\n",
    "\n",
    "For this exercise, I explored the areas of film and cinema toward a dataset with a focus on historical, cultural data.  Choosing for the assignment and activity, Blockbuster.csv was selected along the lines of my related research. The dataset included a detailed collection of the top ten highest-grossing films from 1975 to 2018 taken from a crowdflower dataset. Over time, the data source enhanced coding exploration toward this week's focus to open up ideas toward using the \"group by\" methods to enable comparisons with the supplied dataset information. The initial area focused on film Genres and areas of Ranking, which continued toward adding and opening up more possible choices"
   ]
  },
  {
   "cell_type": "markdown",
   "metadata": {},
   "source": [
    "## Stage One: Import Structured CSV Data (bonus: from multiple files)\n",
    "\n",
    "Blockbusters.csv was imported and placed into a file to help avoid any error toward access through the use of separation.  And with the use of Pandas, the tone was set to decipher and explore initial areas and trends within Blockbusters.csv set as the data frame in question housed in the folder formed \"busters.\"  As metadata in the form of text formated documents has the potential to create value when they are kept \"in a tabular format\" (Karsdorp, Kestemont, and Riddell 126)."
   ]
  },
  {
   "cell_type": "code",
   "execution_count": 18,
   "metadata": {},
   "outputs": [
    {
     "name": "stdout",
     "output_type": "stream",
     "text": [
      "blockbusters (1).csv\n",
      "  Main_Genre    Genre_2    Genre_3  imdb_rating  length  rank_in_year rating  \\\n",
      "0     Action  Adventure      Drama          7.4     135             1  PG-13   \n",
      "1     Action  Adventure     Sci-Fi          8.5     156             2  PG-13   \n",
      "2  Animation     Action  Adventure          7.8     118             3     PG   \n",
      "3     Action  Adventure      Drama          6.2     129             4  PG-13   \n",
      "4     Action     Comedy        NaN          7.8     119             5      R   \n",
      "\n",
      "                 studio                           title worldwide_gross  year  \n",
      "0  Walt Disney Pictures                   Black Panther    $700,059,566  2018  \n",
      "1  Walt Disney Pictures          Avengers: Infinity War    $678,815,482  2018  \n",
      "2                 Pixar                   Incredibles 2    $608,581,744  2018  \n",
      "3    Universal Pictures  Jurassic World: Fallen Kingdom    $416,769,345  2018  \n",
      "4      20th Century Fox                      Deadpool 2    $318,491,426  2018  \n"
     ]
    }
   ],
   "source": [
    "\n",
    "import pandas as pd\n",
    "import os\n",
    "path = \"busters/\"\n",
    "years = []\n",
    "df_list = []\n",
    "\n",
    "with os.scandir(path) as entries:\n",
    "    for entry in entries:\n",
    "        years.append(entry.name)\n",
    "        temp_df = pd.read_csv(f'{path}{entry.name}')\n",
    "        df_list.append(temp_df)\n",
    "        \n",
    "print(years[0])\n",
    "print(df_list[0].head())"
   ]
  },
  {
   "cell_type": "markdown",
   "metadata": {},
   "source": [
    "## Stage Two: Explore and note differences in headings / datatypes over the years\n",
    "\n",
    "The use of the \"for in\" power headings and datatypes opened up for exploration for the benefit of comparisons later within this notebook. The simplicity of exploring \"some general properties of the dataset,\" (Karsdorp, Kestemont, and Riddell 129) enables the coder to visualize the areas available toward focus. And once the titles accessible were revealed, \"Main_Genre,\" objectivity was explored, allowing for the most popular use of \"Action\" and \"Animation\" toward the era of Top industry Films. \n"
   ]
  },
  {
   "cell_type": "code",
   "execution_count": 19,
   "metadata": {},
   "outputs": [
    {
     "name": "stdout",
     "output_type": "stream",
     "text": [
      "Main_Genre          object\n",
      "Genre_2             object\n",
      "Genre_3             object\n",
      "imdb_rating        float64\n",
      "length               int64\n",
      "rank_in_year         int64\n",
      "rating              object\n",
      "studio              object\n",
      "title               object\n",
      "worldwide_gross     object\n",
      "year                 int64\n",
      "dtype: object\n"
     ]
    },
    {
     "data": {
      "text/plain": [
       "[None]"
      ]
     },
     "execution_count": 19,
     "metadata": {},
     "output_type": "execute_result"
    }
   ],
   "source": [
    "[print(df.dtypes) for df in df_list]\n"
   ]
  },
  {
   "cell_type": "code",
   "execution_count": 20,
   "metadata": {},
   "outputs": [
    {
     "name": "stdout",
     "output_type": "stream",
     "text": [
      "0       Action\n",
      "1       Action\n",
      "2    Animation\n",
      "3       Action\n",
      "4       Action\n",
      "Name: Main_Genre, dtype: object\n"
     ]
    },
    {
     "data": {
      "text/plain": [
       "[None]"
      ]
     },
     "execution_count": 20,
     "metadata": {},
     "output_type": "execute_result"
    }
   ],
   "source": [
    "[print(df['Main_Genre'].head()) for df in df_list]\n"
   ]
  },
  {
   "cell_type": "markdown",
   "metadata": {},
   "source": [
    "## Stage Three: Use Groupby to Explore (by Region)\n",
    "\n",
    "### Example #1\n",
    "\n",
    "Utilizing the coded function and resource method of the \"group by\" protocol enables simplifying showcasing or dissecting the variants of two disparate subsets of data, involving \"two elements: a column by which we want to aggregate rows and a function which takes the rows as input and produces a single result\" (Karsdorp, Kestemont, and Riddell 138). "
   ]
  },
  {
   "cell_type": "code",
   "execution_count": 65,
   "metadata": {},
   "outputs": [
    {
     "data": {
      "text/html": [
       "<div>\n",
       "<style scoped>\n",
       "    .dataframe tbody tr th:only-of-type {\n",
       "        vertical-align: middle;\n",
       "    }\n",
       "\n",
       "    .dataframe tbody tr th {\n",
       "        vertical-align: top;\n",
       "    }\n",
       "\n",
       "    .dataframe thead th {\n",
       "        text-align: right;\n",
       "    }\n",
       "</style>\n",
       "<table border=\"1\" class=\"dataframe\">\n",
       "  <thead>\n",
       "    <tr style=\"text-align: right;\">\n",
       "      <th></th>\n",
       "      <th>Main_Genre</th>\n",
       "      <th>Genre_2</th>\n",
       "      <th>Genre_3</th>\n",
       "      <th>imdb_rating</th>\n",
       "      <th>length</th>\n",
       "      <th>rank_in_year</th>\n",
       "      <th>rating</th>\n",
       "      <th>studio</th>\n",
       "      <th>title</th>\n",
       "      <th>worldwide_gross</th>\n",
       "      <th>year</th>\n",
       "    </tr>\n",
       "  </thead>\n",
       "  <tbody>\n",
       "    <tr>\n",
       "      <th>0</th>\n",
       "      <td>Action</td>\n",
       "      <td>Adventure</td>\n",
       "      <td>Drama</td>\n",
       "      <td>7.4</td>\n",
       "      <td>135</td>\n",
       "      <td>1</td>\n",
       "      <td>PG-13</td>\n",
       "      <td>Walt Disney Pictures</td>\n",
       "      <td>Black Panther</td>\n",
       "      <td>$700,059,566</td>\n",
       "      <td>2018</td>\n",
       "    </tr>\n",
       "    <tr>\n",
       "      <th>1</th>\n",
       "      <td>Action</td>\n",
       "      <td>Adventure</td>\n",
       "      <td>Sci-Fi</td>\n",
       "      <td>8.5</td>\n",
       "      <td>156</td>\n",
       "      <td>2</td>\n",
       "      <td>PG-13</td>\n",
       "      <td>Walt Disney Pictures</td>\n",
       "      <td>Avengers: Infinity War</td>\n",
       "      <td>$678,815,482</td>\n",
       "      <td>2018</td>\n",
       "    </tr>\n",
       "    <tr>\n",
       "      <th>6</th>\n",
       "      <td>Action</td>\n",
       "      <td>Comedy</td>\n",
       "      <td>NaN</td>\n",
       "      <td>7.2</td>\n",
       "      <td>118</td>\n",
       "      <td>7</td>\n",
       "      <td>PG-13</td>\n",
       "      <td>Walt Disney Pictures</td>\n",
       "      <td>Ant-Man and the Wasp</td>\n",
       "      <td>$216,648,740</td>\n",
       "      <td>2018</td>\n",
       "    </tr>\n",
       "    <tr>\n",
       "      <th>7</th>\n",
       "      <td>Action</td>\n",
       "      <td>Adventure</td>\n",
       "      <td>Drama</td>\n",
       "      <td>7.0</td>\n",
       "      <td>135</td>\n",
       "      <td>8</td>\n",
       "      <td>PG-13</td>\n",
       "      <td>Walt Disney Pictures</td>\n",
       "      <td>Solo: A Star Wars Story</td>\n",
       "      <td>$213,767,512</td>\n",
       "      <td>2018</td>\n",
       "    </tr>\n",
       "    <tr>\n",
       "      <th>10</th>\n",
       "      <td>Action</td>\n",
       "      <td>Adventure</td>\n",
       "      <td>Drama</td>\n",
       "      <td>7.2</td>\n",
       "      <td>152</td>\n",
       "      <td>1</td>\n",
       "      <td>PG-13</td>\n",
       "      <td>Walt Disney Pictures</td>\n",
       "      <td>Star Wars: The Last Jedi</td>\n",
       "      <td>$620,181,382</td>\n",
       "      <td>2017</td>\n",
       "    </tr>\n",
       "  </tbody>\n",
       "</table>\n",
       "</div>"
      ],
      "text/plain": [
       "   Main_Genre    Genre_2 Genre_3  imdb_rating  length  rank_in_year rating  \\\n",
       "0      Action  Adventure   Drama          7.4     135             1  PG-13   \n",
       "1      Action  Adventure  Sci-Fi          8.5     156             2  PG-13   \n",
       "6      Action     Comedy     NaN          7.2     118             7  PG-13   \n",
       "7      Action  Adventure   Drama          7.0     135             8  PG-13   \n",
       "10     Action  Adventure   Drama          7.2     152             1  PG-13   \n",
       "\n",
       "                  studio                     title worldwide_gross  year  \n",
       "0   Walt Disney Pictures             Black Panther    $700,059,566  2018  \n",
       "1   Walt Disney Pictures    Avengers: Infinity War    $678,815,482  2018  \n",
       "6   Walt Disney Pictures      Ant-Man and the Wasp    $216,648,740  2018  \n",
       "7   Walt Disney Pictures   Solo: A Star Wars Story    $213,767,512  2018  \n",
       "10  Walt Disney Pictures  Star Wars: The Last Jedi    $620,181,382  2017  "
      ]
     },
     "execution_count": 65,
     "metadata": {},
     "output_type": "execute_result"
    }
   ],
   "source": [
    "close_region = df_list[0].groupby('studio')\n",
    "close_region.get_group('Walt Disney Pictures').head()"
   ]
  },
  {
   "cell_type": "code",
   "execution_count": 67,
   "metadata": {},
   "outputs": [
    {
     "name": "stdout",
     "output_type": "stream",
     "text": [
      "studio\n",
      "20th Century Fox                 7.127083\n",
      "Columbia Pictures                6.741667\n",
      "DreamWorks                       7.266667\n",
      "Embassy Pictures                 7.000000\n",
      "IFC Films                        6.600000\n",
      "Lionsgate Films                  6.550000\n",
      "Metro-Goldwyn-Mayer              7.255882\n",
      "National Air and Space Museum    7.000000\n",
      "Newmarket Films                  7.100000\n",
      "Paramount Pictures               6.965517\n",
      "Pixar                            8.022222\n",
      "Sony Pictures                    6.905882\n",
      "Sunn Classic Pictures            4.600000\n",
      "Universal Pictures               6.876786\n",
      "Walt Disney Pictures             7.235385\n",
      "Warner Bros                      7.206897\n",
      "Name: imdb_rating, dtype: float64\n",
      "studio\n",
      "20th Century Fox                  5.437500\n",
      "Columbia Pictures                 6.111111\n",
      "DreamWorks                        5.666667\n",
      "Embassy Pictures                 10.000000\n",
      "IFC Films                         9.000000\n",
      "Lionsgate Films                   5.100000\n",
      "Metro-Goldwyn-Mayer               5.676471\n",
      "National Air and Space Museum     2.000000\n",
      "Newmarket Films                   5.000000\n",
      "Paramount Pictures                4.862069\n",
      "Pixar                             4.777778\n",
      "Sony Pictures                     5.882353\n",
      "Sunn Classic Pictures             6.000000\n",
      "Universal Pictures                6.285714\n",
      "Walt Disney Pictures              4.630769\n",
      "Warner Bros                       5.873563\n",
      "Name: rank_in_year, dtype: float64\n"
     ]
    }
   ],
   "source": [
    "print(close_region['imdb_rating'].mean())\n",
    "print(close_region['rank_in_year'].mean())"
   ]
  },
  {
   "cell_type": "markdown",
   "metadata": {},
   "source": [
    "### Example #2"
   ]
  },
  {
   "cell_type": "code",
   "execution_count": 114,
   "metadata": {},
   "outputs": [
    {
     "data": {
      "text/html": [
       "<div>\n",
       "<style scoped>\n",
       "    .dataframe tbody tr th:only-of-type {\n",
       "        vertical-align: middle;\n",
       "    }\n",
       "\n",
       "    .dataframe tbody tr th {\n",
       "        vertical-align: top;\n",
       "    }\n",
       "\n",
       "    .dataframe thead th {\n",
       "        text-align: right;\n",
       "    }\n",
       "</style>\n",
       "<table border=\"1\" class=\"dataframe\">\n",
       "  <thead>\n",
       "    <tr style=\"text-align: right;\">\n",
       "      <th></th>\n",
       "      <th>Main_Genre</th>\n",
       "      <th>Genre_2</th>\n",
       "      <th>Genre_3</th>\n",
       "      <th>imdb_rating</th>\n",
       "      <th>length</th>\n",
       "      <th>rank_in_year</th>\n",
       "      <th>rating</th>\n",
       "      <th>studio</th>\n",
       "      <th>title</th>\n",
       "      <th>worldwide_gross</th>\n",
       "      <th>year</th>\n",
       "    </tr>\n",
       "  </thead>\n",
       "  <tbody>\n",
       "    <tr>\n",
       "      <th>54</th>\n",
       "      <td>Adventure</td>\n",
       "      <td>Sci-Fi</td>\n",
       "      <td>NaN</td>\n",
       "      <td>7.7</td>\n",
       "      <td>146</td>\n",
       "      <td>5</td>\n",
       "      <td>PG-13</td>\n",
       "      <td>Lionsgate Films</td>\n",
       "      <td>The Hunger Games: Catching Fire</td>\n",
       "      <td>$864,912,963.00</td>\n",
       "      <td>2013</td>\n",
       "    </tr>\n",
       "    <tr>\n",
       "      <th>101</th>\n",
       "      <td>Adventure</td>\n",
       "      <td>Action</td>\n",
       "      <td>NaN</td>\n",
       "      <td>6.2</td>\n",
       "      <td>122</td>\n",
       "      <td>2</td>\n",
       "      <td>PG-13</td>\n",
       "      <td>Paramount Pictures</td>\n",
       "      <td>Indiana Jones and the Kingdom of the Crystal S...</td>\n",
       "      <td>$786,636,033.00</td>\n",
       "      <td>2008</td>\n",
       "    </tr>\n",
       "    <tr>\n",
       "      <th>106</th>\n",
       "      <td>Adventure</td>\n",
       "      <td>Action</td>\n",
       "      <td>NaN</td>\n",
       "      <td>6.7</td>\n",
       "      <td>106</td>\n",
       "      <td>7</td>\n",
       "      <td>PG-13</td>\n",
       "      <td>Metro-Goldwyn-Mayer</td>\n",
       "      <td>Quantum of Solace</td>\n",
       "      <td>$586,090,727.00</td>\n",
       "      <td>2008</td>\n",
       "    </tr>\n",
       "    <tr>\n",
       "      <th>112</th>\n",
       "      <td>Adventure</td>\n",
       "      <td>Action</td>\n",
       "      <td>NaN</td>\n",
       "      <td>6.2</td>\n",
       "      <td>139</td>\n",
       "      <td>3</td>\n",
       "      <td>PG-13</td>\n",
       "      <td>Columbia Pictures</td>\n",
       "      <td>Spider-Man 3</td>\n",
       "      <td>$890,871,626.00</td>\n",
       "      <td>2007</td>\n",
       "    </tr>\n",
       "    <tr>\n",
       "      <th>138</th>\n",
       "      <td>Adventure</td>\n",
       "      <td>Action</td>\n",
       "      <td>NaN</td>\n",
       "      <td>8.3</td>\n",
       "      <td>140</td>\n",
       "      <td>9</td>\n",
       "      <td>PG-13</td>\n",
       "      <td>Warner Bros</td>\n",
       "      <td>Batman Begins</td>\n",
       "      <td>$372,710,015.00</td>\n",
       "      <td>2005</td>\n",
       "    </tr>\n",
       "  </tbody>\n",
       "</table>\n",
       "</div>"
      ],
      "text/plain": [
       "    Main_Genre Genre_2 Genre_3  imdb_rating  length  rank_in_year rating  \\\n",
       "54   Adventure  Sci-Fi     NaN          7.7     146             5  PG-13   \n",
       "101  Adventure  Action     NaN          6.2     122             2  PG-13   \n",
       "106  Adventure  Action     NaN          6.7     106             7  PG-13   \n",
       "112  Adventure  Action     NaN          6.2     139             3  PG-13   \n",
       "138  Adventure  Action     NaN          8.3     140             9  PG-13   \n",
       "\n",
       "                  studio                                              title  \\\n",
       "54       Lionsgate Films                    The Hunger Games: Catching Fire   \n",
       "101   Paramount Pictures  Indiana Jones and the Kingdom of the Crystal S...   \n",
       "106  Metro-Goldwyn-Mayer                                  Quantum of Solace   \n",
       "112    Columbia Pictures                                       Spider-Man 3   \n",
       "138          Warner Bros                                      Batman Begins   \n",
       "\n",
       "      worldwide_gross  year  \n",
       "54   $864,912,963.00   2013  \n",
       "101  $786,636,033.00   2008  \n",
       "106  $586,090,727.00   2008  \n",
       "112  $890,871,626.00   2007  \n",
       "138  $372,710,015.00   2005  "
      ]
     },
     "execution_count": 114,
     "metadata": {},
     "output_type": "execute_result"
    }
   ],
   "source": [
    "close_region = df_list[0].groupby('Main_Genre')\n",
    "close_region.get_group('Adventure').head()"
   ]
  },
  {
   "cell_type": "code",
   "execution_count": 115,
   "metadata": {},
   "outputs": [
    {
     "name": "stdout",
     "output_type": "stream",
     "text": [
      "Main_Genre\n",
      "Action       7.296667\n",
      "Adventure    7.438462\n",
      "Animation    7.345455\n",
      "Comedy       6.938182\n",
      "Crime        6.782353\n",
      "Drama        7.303333\n",
      "Family       6.631250\n",
      "Fantasy      6.988889\n",
      "History      7.580000\n",
      "Horror       6.875000\n",
      "Music        6.822222\n",
      "Romance      6.862500\n",
      "Sci-Fi       7.186000\n",
      "Sport        7.028571\n",
      "Thriller     7.104762\n",
      "War          7.600000\n",
      "Name: imdb_rating, dtype: float64\n",
      "Main_Genre\n",
      "Action       5.100000\n",
      "Adventure    3.615385\n",
      "Animation    5.909091\n",
      "Comedy       5.945455\n",
      "Crime        7.058824\n",
      "Drama        5.233333\n",
      "Family       5.937500\n",
      "Fantasy      4.370370\n",
      "History      5.000000\n",
      "Horror       6.750000\n",
      "Music        7.222222\n",
      "Romance      5.583333\n",
      "Sci-Fi       5.600000\n",
      "Sport        4.142857\n",
      "Thriller     5.825397\n",
      "War          6.100000\n",
      "Name: rank_in_year, dtype: float64\n"
     ]
    }
   ],
   "source": [
    "print(close_region['imdb_rating'].mean())\n",
    "print(close_region['rank_in_year'].mean())"
   ]
  },
  {
   "cell_type": "markdown",
   "metadata": {},
   "source": [
    "## Stage Four: Plot Grouped Data¶\n",
    "\n",
    "While this course of action is the most explored process of the code and data frame components, attention and experimentation were enhanced by using the strategy to compare the grouped data relation. It promotes complete openness, allowing the process to formulate a platform for strengthening the pursuit of multiple opportunities toward visualization using a \"Pandas library ...which allows us to plot our data\" with more comfort (Karsdorp, Kestemont, and Riddell 146). Which was initially explored over time-framed supplied and then used to bring other elements further within the process of visualization of areas that may or not be a benefit toward exploring.  And after viewing the charted progress between associations, it was revealed that this data set may have had some advantages and challenges due to the limits of standard information and collected separation of resources of importance or relevance. "
   ]
  },
  {
   "cell_type": "code",
   "execution_count": 116,
   "metadata": {},
   "outputs": [
    {
     "name": "stdout",
     "output_type": "stream",
     "text": [
      "Lionsgate\n",
      "Films'\n",
      "'Paramount\n",
      "Pictures'\n",
      "'Metro-Goldwyn-Mayer'\n",
      "\n",
      "'Columbia\n",
      "Pictures'\n",
      "'Warner\n",
      "Bros'\n",
      "'20th\n",
      "Century\n",
      "Fox\n"
     ]
    },
    {
     "data": {
      "image/png": "[encoded data removed]",
      "text/plain": [
       "<Figure size 432x288 with 1 Axes>"
      ]
     },
     "metadata": {
      "needs_background": "light"
     },
     "output_type": "display_data"
    }
   ],
   "source": [
    "import matplotlib.pyplot as plt\n",
    "import numpy as np\n",
    "plt.rcParams.update({'font.size': 5})\n",
    "\n",
    "regions = close_region['studio'].unique()\n",
    "names = [str(i) for i in regions]\n",
    "names = [name.replace(' ', '\\n') for name in names]\n",
    "names = [name.replace(\"['\",'') for name in names]\n",
    "names = [name.replace(\"']\",'') for name in names]\n",
    "\n",
    "print(names[1])\n",
    "x = np.arange(len(names))\n",
    "width = 1/len(names)\n",
    "fig, ax = plt.subplots()\n",
    "rects1 = ax.bar(x - width, close_region['imdb_rating'].mean()*10, width, label='Rating')\n",
    "rects2 = ax.bar(x, close_region['length'].mean()*10, width, label='Time')\n",
    "rects3 = ax.bar(x + width, close_region['rank_in_year'].mean()*100, width, label='Rank')\n",
    "\n",
    "\n",
    "ax.set_ylabel('worldwide_gross')\n",
    "ax.set_title(years[0])\n",
    "ax.set_xticks(x)\n",
    "ax.set_xticklabels(names)\n",
    "ax.legend()\n",
    "fig.tight_layout()\n",
    "\n",
    "plt.show()"
   ]
  },
  {
   "cell_type": "markdown",
   "metadata": {},
   "source": [
    "## Bonus: Additional forms of analysis or visualization \n"
   ]
  },
  {
   "cell_type": "code",
   "execution_count": 117,
   "metadata": {},
   "outputs": [
    {
     "name": "stdout",
     "output_type": "stream",
     "text": [
      "Adventure\n"
     ]
    },
    {
     "data": {
      "image/png": "[encoded data removed]",
      "text/plain": [
       "<Figure size 432x288 with 1 Axes>"
      ]
     },
     "metadata": {
      "needs_background": "light"
     },
     "output_type": "display_data"
    }
   ],
   "source": [
    "import matplotlib.pyplot as plt\n",
    "import numpy as np\n",
    "plt.rcParams.update({'font.size': 5})\n",
    "\n",
    "regions = close_region['Main_Genre'].unique()\n",
    "names = [str(i) for i in regions]\n",
    "names = [name.replace(' ', '\\n') for name in names]\n",
    "names = [name.replace(\"['\",'') for name in names]\n",
    "names = [name.replace(\"']\",'') for name in names]\n",
    "\n",
    "print(names[1])\n",
    "x = np.arange(len(names))\n",
    "width = 1/len(names)\n",
    "fig, ax = plt.subplots()\n",
    "rects1 = ax.bar(x - width, close_region['imdb_rating'].mean()*10, width, label='Rating')\n",
    "rects2 = ax.bar(x, close_region['length'].mean()*10, width, label='Time')\n",
    "rects3 = ax.bar(x + width, close_region['rank_in_year'].mean()*100, width, label='Rank')\n",
    "\n",
    "\n",
    "ax.set_ylabel('worldwide_gross')\n",
    "ax.set_title(years[0])\n",
    "ax.set_xticks(x)\n",
    "ax.set_xticklabels(names)\n",
    "ax.legend()\n",
    "fig.tight_layout()\n",
    "\n",
    "plt.show()"
   ]
  },
  {
   "cell_type": "code",
   "execution_count": 119,
   "metadata": {},
   "outputs": [
    {
     "name": "stdout",
     "output_type": "stream",
     "text": [
      "[nan\n",
      "'Crime'\n",
      "'Fantasy\n"
     ]
    },
    {
     "data": {
      "image/png": "[encoded data removed]",
      "text/plain": [
       "<Figure size 432x288 with 1 Axes>"
      ]
     },
     "metadata": {
      "needs_background": "light"
     },
     "output_type": "display_data"
    }
   ],
   "source": [
    "import matplotlib.pyplot as plt\n",
    "import numpy as np\n",
    "plt.rcParams.update({'font.size': 5})\n",
    "\n",
    "regions = close_region['Genre_3'].unique()\n",
    "names = [str(i) for i in regions]\n",
    "names = [name.replace(' ', '\\n') for name in names]\n",
    "names = [name.replace(\"['\",'') for name in names]\n",
    "names = [name.replace(\"']\",'') for name in names]\n",
    "\n",
    "print(names[1])\n",
    "x = np.arange(len(names))\n",
    "width = 1/len(names)\n",
    "fig, ax = plt.subplots()\n",
    "rects1 = ax.bar(x - width, close_region['imdb_rating'].mean()*10, width, label='Rating')\n",
    "rects2 = ax.bar(x, close_region['length'].mean()*10, width, label='Time')\n",
    "rects3 = ax.bar(x + width, close_region['rank_in_year'].mean()*100, width, label='Rank')\n",
    "\n",
    "\n",
    "ax.set_ylabel('worldwide_gross')\n",
    "ax.set_title(years[0])\n",
    "ax.set_xticks(x)\n",
    "ax.set_xticklabels(names)\n",
    "ax.legend()\n",
    "fig.tight_layout()\n",
    "\n",
    "plt.show()"
   ]
  },
  {
   "cell_type": "code",
   "execution_count": 157,
   "metadata": {},
   "outputs": [
    {
     "data": {
      "image/png": "[encoded data removed]",
      "text/plain": [
       "<Figure size 1080x504 with 1 Axes>"
      ]
     },
     "metadata": {
      "needs_background": "light"
     },
     "output_type": "display_data"
    },
    {
     "data": {
      "text/plain": [
       "<Figure size 1080x504 with 0 Axes>"
      ]
     },
     "metadata": {},
     "output_type": "display_data"
    }
   ],
   "source": [
    "words = ['Walt Disney Pictures', 'Sony Pictures','DreamWorks', 'Pixar', 'Paramount Pictures', 'Lionsgate Films', \n",
    "           'Warner Bros', 'Universal Pictures', '20th Century Fox', \n",
    "           'IFC Films'] \n",
    "counts = [10, 13, 15, 15, 16, 18, 25, 30, 40, 50]\n",
    "\n",
    "\n",
    "plt.figure(figsize=[15, 7])\n",
    "\n",
    "# Creating a bar chart with bars of different color\n",
    "plt.bar(words, counts, width=0.7, edgecolor='blueviolet',\n",
    "        color=['r', 'y', 'g', 'b', 'c', 'k', \n",
    "               'olive', 'gray', 'pink', 'maroon'], linewidth=2)\n",
    "\n",
    "plt.title('Top 10 Text', fontsize=15)\n",
    "plt.xlabel('Words', fontsize=15)\n",
    "plt.ylabel('Counts', fontsize=15)\n",
    "plt.show()\n",
    "\n",
    "\n",
    "# Set colors to the bars using colormaps available in matplotlib\n",
    "\n",
    "plt.figure(figsize=[15, 7])\n",
    "col_map = plt.get_cmap('Paired')"
   ]
  },
  {
   "cell_type": "code",
   "execution_count": 158,
   "metadata": {},
   "outputs": [
    {
     "data": {
      "image/png": "[encoded data removed]",
      "text/plain": [
       "<Figure size 1080x504 with 1 Axes>"
      ]
     },
     "metadata": {
      "needs_background": "light"
     },
     "output_type": "display_data"
    }
   ],
   "source": [
    "plt.figure(figsize=[15, 7])\n",
    "\n",
    "# Creating a bar chart with bars of different color\n",
    "plt.bar(words, counts, width=0.7, edgecolor='blueviolet',\n",
    "        color=['r', 'y', 'g', 'b', 'c', 'k', \n",
    "               'olive', 'gray', 'pink', 'maroon'], linewidth=2)\n",
    "\n",
    "# Creating a bar chart with bars of different color using colormap\n",
    "plt.bar(words, counts, width=0.7, color=col_map.colors, edgecolor='k', \n",
    "        linewidth=2)\n",
    "\n",
    "plt.title('Top 10 Text', fontsize=15)\n",
    "plt.xlabel('words', fontsize=15)\n",
    "plt.ylabel('counts', fontsize=15)\n",
    "plt.show()"
   ]
  },
  {
   "cell_type": "code",
   "execution_count": 159,
   "metadata": {},
   "outputs": [
    {
     "data": {
      "image/png": "[encoded data removed]",
      "text/plain": [
       "<Figure size 504x1080 with 1 Axes>"
      ]
     },
     "metadata": {
      "needs_background": "light"
     },
     "output_type": "display_data"
    }
   ],
   "source": [
    "# Importing the required libraries\n",
    "from matplotlib import pyplot as plt\n",
    "\n",
    "# Preparing the data to plot\n",
    "words = ['for', 'this','film', 'analysis', 'a', 'to', \n",
    "           'in', 'and', 'of', \n",
    "           'the'] \n",
    "total = [10, 13, 15, 15, 16, 18, 25, 30, 40, 50]\n",
    "\n",
    "plt.figure(figsize=[7,15])\n",
    "col_map = plt.get_cmap('Paired')\n",
    "\n",
    "# Creating a bar chart with bars of different color\n",
    "plt.barh(words, counts, height=0.7, edgecolor='blueviolet',\n",
    "        color=['r', 'y', 'g', 'b', 'c', 'k', \n",
    "               'olive', 'gray', 'pink', 'maroon'], linewidth=2)\n",
    "\n",
    "plt.title('Top 10 Text', fontsize=15)\n",
    "plt.xlabel('words', fontsize=15)\n",
    "plt.ylabel('counts', fontsize=15)\n",
    "plt.show()"
   ]
  }
 ],
 "metadata": {
  "interpreter": {
   "hash": "598d64e08a06bfba065a99698ec5bbec753236817de80e4f3bcf221574aa140c"
  },
  "kernelspec": {
   "display_name": "Python 3.8.11 64-bit ('base': conda)",
   "name": "python3"
  },
  "language_info": {
   "codemirror_mode": {
    "name": "ipython",
    "version": 3
   },
   "file_extension": ".py",
   "mimetype": "text/x-python",
   "name": "python",
   "nbconvert_exporter": "python",
   "pygments_lexer": "ipython3",
   "version": "3.8.11"
  },
  "orig_nbformat": 4
 },
 "nbformat": 4,
 "nbformat_minor": 2
}
