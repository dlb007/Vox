{
 "cells": [
  {
   "cell_type": "markdown",
   "metadata": {},
   "source": [
    "# Exercise Eight: Cultural Data\n",
    "For this exercise, pick a dataset of current or historical cultural data available in CSV format from one of the suggeted sources, or your own research. This will be easiest if your data includes some element of information over time. You'll be using the \"group by\" methods we discussed this week to make comparisons within the dataset: you might group by geography, party affiliation, age, gender, or other information marked in the dataset.\n",
    "\n",
    "Your annotated code should include headings, and discuss your findings as well as the limitations in what you can visualize using this approach. This exercise should:\n",
    "\n",
    "Import your selected structured CSV data\n",
    "Use Pandas to note any preliminary trends in the CSV as a dataframe\n",
    "Use \"group by\" to break down at least two different subsets of data\n",
    "Plot a comparison between the grouped data (this will be easiest over time)\n",
    "Use one additional form of analysis or visualization from any we've tried so far \n"
   ]
  },
  {
   "cell_type": "markdown",
   "metadata": {},
   "source": [
    "## Stage One: Import Structured CSV Data (bonus: from multiple files)\n",
    "\n"
   ]
  },
  {
   "cell_type": "code",
   "execution_count": 2,
   "metadata": {},
   "outputs": [
    {
     "name": "stdout",
     "output_type": "stream",
     "text": [
      "world-happiness-report-2021 (1).csv\n",
      "  Country name Regional indicator  Ladder score  \\\n",
      "0      Finland     Western Europe         7.842   \n",
      "1      Denmark     Western Europe         7.620   \n",
      "2  Switzerland     Western Europe         7.571   \n",
      "3      Iceland     Western Europe         7.554   \n",
      "4  Netherlands     Western Europe         7.464   \n",
      "\n",
      "   Standard error of ladder score  upperwhisker  lowerwhisker  \\\n",
      "0                           0.032         7.904         7.780   \n",
      "1                           0.035         7.687         7.552   \n",
      "2                           0.036         7.643         7.500   \n",
      "3                           0.059         7.670         7.438   \n",
      "4                           0.027         7.518         7.410   \n",
      "\n",
      "   Logged GDP per capita  Social support  Healthy life expectancy  \\\n",
      "0                 10.775           0.954                     72.0   \n",
      "1                 10.933           0.954                     72.7   \n",
      "2                 11.117           0.942                     74.4   \n",
      "3                 10.878           0.983                     73.0   \n",
      "4                 10.932           0.942                     72.4   \n",
      "\n",
      "   Freedom to make life choices  Generosity  Perceptions of corruption  \\\n",
      "0                         0.949      -0.098                      0.186   \n",
      "1                         0.946       0.030                      0.179   \n",
      "2                         0.919       0.025                      0.292   \n",
      "3                         0.955       0.160                      0.673   \n",
      "4                         0.913       0.175                      0.338   \n",
      "\n",
      "   Ladder score in Dystopia  Explained by: Log GDP per capita  \\\n",
      "0                      2.43                             1.446   \n",
      "1                      2.43                             1.502   \n",
      "2                      2.43                             1.566   \n",
      "3                      2.43                             1.482   \n",
      "4                      2.43                             1.501   \n",
      "\n",
      "   Explained by: Social support  Explained by: Healthy life expectancy  \\\n",
      "0                         1.106                                  0.741   \n",
      "1                         1.108                                  0.763   \n",
      "2                         1.079                                  0.816   \n",
      "3                         1.172                                  0.772   \n",
      "4                         1.079                                  0.753   \n",
      "\n",
      "   Explained by: Freedom to make life choices  Explained by: Generosity  \\\n",
      "0                                       0.691                     0.124   \n",
      "1                                       0.686                     0.208   \n",
      "2                                       0.653                     0.204   \n",
      "3                                       0.698                     0.293   \n",
      "4                                       0.647                     0.302   \n",
      "\n",
      "   Explained by: Perceptions of corruption  Dystopia + residual  \n",
      "0                                    0.481                3.253  \n",
      "1                                    0.485                2.868  \n",
      "2                                    0.413                2.839  \n",
      "3                                    0.170                2.967  \n",
      "4                                    0.384                2.798  \n"
     ]
    }
   ],
   "source": [
    "\n",
    "import pandas as pd\n",
    "import os\n",
    "path = \"happy/\"\n",
    "years = []\n",
    "df_list = []\n",
    "\n",
    "with os.scandir(path) as entries:\n",
    "    for entry in entries:\n",
    "        years.append(entry.name)\n",
    "        temp_df = pd.read_csv(f'{path}{entry.name}')\n",
    "        df_list.append(temp_df)\n",
    "        \n",
    "print(years[0])\n",
    "print(df_list[0].head())"
   ]
  },
  {
   "cell_type": "markdown",
   "metadata": {},
   "source": [
    "## Stage Two: Explore and note differences in headings / datatypes over the years"
   ]
  },
  {
   "cell_type": "code",
   "execution_count": 3,
   "metadata": {},
   "outputs": [
    {
     "name": "stdout",
     "output_type": "stream",
     "text": [
      "Country name                                   object\n",
      "Regional indicator                             object\n",
      "Ladder score                                  float64\n",
      "Standard error of ladder score                float64\n",
      "upperwhisker                                  float64\n",
      "lowerwhisker                                  float64\n",
      "Logged GDP per capita                         float64\n",
      "Social support                                float64\n",
      "Healthy life expectancy                       float64\n",
      "Freedom to make life choices                  float64\n",
      "Generosity                                    float64\n",
      "Perceptions of corruption                     float64\n",
      "Ladder score in Dystopia                      float64\n",
      "Explained by: Log GDP per capita              float64\n",
      "Explained by: Social support                  float64\n",
      "Explained by: Healthy life expectancy         float64\n",
      "Explained by: Freedom to make life choices    float64\n",
      "Explained by: Generosity                      float64\n",
      "Explained by: Perceptions of corruption       float64\n",
      "Dystopia + residual                           float64\n",
      "dtype: object\n"
     ]
    },
    {
     "data": {
      "text/plain": [
       "[None]"
      ]
     },
     "execution_count": 3,
     "metadata": {},
     "output_type": "execute_result"
    }
   ],
   "source": [
    "[print(df.dtypes) for df in df_list]\n"
   ]
  },
  {
   "cell_type": "code",
   "execution_count": 4,
   "metadata": {},
   "outputs": [
    {
     "name": "stdout",
     "output_type": "stream",
     "text": [
      "0        Finland\n",
      "1        Denmark\n",
      "2    Switzerland\n",
      "3        Iceland\n",
      "4    Netherlands\n",
      "Name: Country name, dtype: object\n"
     ]
    },
    {
     "data": {
      "text/plain": [
       "[None]"
      ]
     },
     "execution_count": 4,
     "metadata": {},
     "output_type": "execute_result"
    }
   ],
   "source": [
    "[print(df['Country name'].head()) for df in df_list]\n"
   ]
  },
  {
   "cell_type": "markdown",
   "metadata": {},
   "source": [
    "## Stage Three: Use Groupby to Explore (by Region)\n",
    "Note this sample shows only one example, two are required for the exercise itself"
   ]
  },
  {
   "cell_type": "code",
   "execution_count": 5,
   "metadata": {},
   "outputs": [
    {
     "data": {
      "text/html": [
       "<div>\n",
       "<style scoped>\n",
       "    .dataframe tbody tr th:only-of-type {\n",
       "        vertical-align: middle;\n",
       "    }\n",
       "\n",
       "    .dataframe tbody tr th {\n",
       "        vertical-align: top;\n",
       "    }\n",
       "\n",
       "    .dataframe thead th {\n",
       "        text-align: right;\n",
       "    }\n",
       "</style>\n",
       "<table border=\"1\" class=\"dataframe\">\n",
       "  <thead>\n",
       "    <tr style=\"text-align: right;\">\n",
       "      <th></th>\n",
       "      <th>Country name</th>\n",
       "      <th>Regional indicator</th>\n",
       "      <th>Ladder score</th>\n",
       "      <th>Standard error of ladder score</th>\n",
       "      <th>upperwhisker</th>\n",
       "      <th>lowerwhisker</th>\n",
       "      <th>Logged GDP per capita</th>\n",
       "      <th>Social support</th>\n",
       "      <th>Healthy life expectancy</th>\n",
       "      <th>Freedom to make life choices</th>\n",
       "      <th>Generosity</th>\n",
       "      <th>Perceptions of corruption</th>\n",
       "      <th>Ladder score in Dystopia</th>\n",
       "      <th>Explained by: Log GDP per capita</th>\n",
       "      <th>Explained by: Social support</th>\n",
       "      <th>Explained by: Healthy life expectancy</th>\n",
       "      <th>Explained by: Freedom to make life choices</th>\n",
       "      <th>Explained by: Generosity</th>\n",
       "      <th>Explained by: Perceptions of corruption</th>\n",
       "      <th>Dystopia + residual</th>\n",
       "    </tr>\n",
       "  </thead>\n",
       "  <tbody>\n",
       "    <tr>\n",
       "      <th>0</th>\n",
       "      <td>Finland</td>\n",
       "      <td>Western Europe</td>\n",
       "      <td>7.842</td>\n",
       "      <td>0.032</td>\n",
       "      <td>7.904</td>\n",
       "      <td>7.780</td>\n",
       "      <td>10.775</td>\n",
       "      <td>0.954</td>\n",
       "      <td>72.0</td>\n",
       "      <td>0.949</td>\n",
       "      <td>-0.098</td>\n",
       "      <td>0.186</td>\n",
       "      <td>2.43</td>\n",
       "      <td>1.446</td>\n",
       "      <td>1.106</td>\n",
       "      <td>0.741</td>\n",
       "      <td>0.691</td>\n",
       "      <td>0.124</td>\n",
       "      <td>0.481</td>\n",
       "      <td>3.253</td>\n",
       "    </tr>\n",
       "    <tr>\n",
       "      <th>1</th>\n",
       "      <td>Denmark</td>\n",
       "      <td>Western Europe</td>\n",
       "      <td>7.620</td>\n",
       "      <td>0.035</td>\n",
       "      <td>7.687</td>\n",
       "      <td>7.552</td>\n",
       "      <td>10.933</td>\n",
       "      <td>0.954</td>\n",
       "      <td>72.7</td>\n",
       "      <td>0.946</td>\n",
       "      <td>0.030</td>\n",
       "      <td>0.179</td>\n",
       "      <td>2.43</td>\n",
       "      <td>1.502</td>\n",
       "      <td>1.108</td>\n",
       "      <td>0.763</td>\n",
       "      <td>0.686</td>\n",
       "      <td>0.208</td>\n",
       "      <td>0.485</td>\n",
       "      <td>2.868</td>\n",
       "    </tr>\n",
       "    <tr>\n",
       "      <th>2</th>\n",
       "      <td>Switzerland</td>\n",
       "      <td>Western Europe</td>\n",
       "      <td>7.571</td>\n",
       "      <td>0.036</td>\n",
       "      <td>7.643</td>\n",
       "      <td>7.500</td>\n",
       "      <td>11.117</td>\n",
       "      <td>0.942</td>\n",
       "      <td>74.4</td>\n",
       "      <td>0.919</td>\n",
       "      <td>0.025</td>\n",
       "      <td>0.292</td>\n",
       "      <td>2.43</td>\n",
       "      <td>1.566</td>\n",
       "      <td>1.079</td>\n",
       "      <td>0.816</td>\n",
       "      <td>0.653</td>\n",
       "      <td>0.204</td>\n",
       "      <td>0.413</td>\n",
       "      <td>2.839</td>\n",
       "    </tr>\n",
       "    <tr>\n",
       "      <th>3</th>\n",
       "      <td>Iceland</td>\n",
       "      <td>Western Europe</td>\n",
       "      <td>7.554</td>\n",
       "      <td>0.059</td>\n",
       "      <td>7.670</td>\n",
       "      <td>7.438</td>\n",
       "      <td>10.878</td>\n",
       "      <td>0.983</td>\n",
       "      <td>73.0</td>\n",
       "      <td>0.955</td>\n",
       "      <td>0.160</td>\n",
       "      <td>0.673</td>\n",
       "      <td>2.43</td>\n",
       "      <td>1.482</td>\n",
       "      <td>1.172</td>\n",
       "      <td>0.772</td>\n",
       "      <td>0.698</td>\n",
       "      <td>0.293</td>\n",
       "      <td>0.170</td>\n",
       "      <td>2.967</td>\n",
       "    </tr>\n",
       "    <tr>\n",
       "      <th>4</th>\n",
       "      <td>Netherlands</td>\n",
       "      <td>Western Europe</td>\n",
       "      <td>7.464</td>\n",
       "      <td>0.027</td>\n",
       "      <td>7.518</td>\n",
       "      <td>7.410</td>\n",
       "      <td>10.932</td>\n",
       "      <td>0.942</td>\n",
       "      <td>72.4</td>\n",
       "      <td>0.913</td>\n",
       "      <td>0.175</td>\n",
       "      <td>0.338</td>\n",
       "      <td>2.43</td>\n",
       "      <td>1.501</td>\n",
       "      <td>1.079</td>\n",
       "      <td>0.753</td>\n",
       "      <td>0.647</td>\n",
       "      <td>0.302</td>\n",
       "      <td>0.384</td>\n",
       "      <td>2.798</td>\n",
       "    </tr>\n",
       "  </tbody>\n",
       "</table>\n",
       "</div>"
      ],
      "text/plain": [
       "  Country name Regional indicator  Ladder score  \\\n",
       "0      Finland     Western Europe         7.842   \n",
       "1      Denmark     Western Europe         7.620   \n",
       "2  Switzerland     Western Europe         7.571   \n",
       "3      Iceland     Western Europe         7.554   \n",
       "4  Netherlands     Western Europe         7.464   \n",
       "\n",
       "   Standard error of ladder score  upperwhisker  lowerwhisker  \\\n",
       "0                           0.032         7.904         7.780   \n",
       "1                           0.035         7.687         7.552   \n",
       "2                           0.036         7.643         7.500   \n",
       "3                           0.059         7.670         7.438   \n",
       "4                           0.027         7.518         7.410   \n",
       "\n",
       "   Logged GDP per capita  Social support  Healthy life expectancy  \\\n",
       "0                 10.775           0.954                     72.0   \n",
       "1                 10.933           0.954                     72.7   \n",
       "2                 11.117           0.942                     74.4   \n",
       "3                 10.878           0.983                     73.0   \n",
       "4                 10.932           0.942                     72.4   \n",
       "\n",
       "   Freedom to make life choices  Generosity  Perceptions of corruption  \\\n",
       "0                         0.949      -0.098                      0.186   \n",
       "1                         0.946       0.030                      0.179   \n",
       "2                         0.919       0.025                      0.292   \n",
       "3                         0.955       0.160                      0.673   \n",
       "4                         0.913       0.175                      0.338   \n",
       "\n",
       "   Ladder score in Dystopia  Explained by: Log GDP per capita  \\\n",
       "0                      2.43                             1.446   \n",
       "1                      2.43                             1.502   \n",
       "2                      2.43                             1.566   \n",
       "3                      2.43                             1.482   \n",
       "4                      2.43                             1.501   \n",
       "\n",
       "   Explained by: Social support  Explained by: Healthy life expectancy  \\\n",
       "0                         1.106                                  0.741   \n",
       "1                         1.108                                  0.763   \n",
       "2                         1.079                                  0.816   \n",
       "3                         1.172                                  0.772   \n",
       "4                         1.079                                  0.753   \n",
       "\n",
       "   Explained by: Freedom to make life choices  Explained by: Generosity  \\\n",
       "0                                       0.691                     0.124   \n",
       "1                                       0.686                     0.208   \n",
       "2                                       0.653                     0.204   \n",
       "3                                       0.698                     0.293   \n",
       "4                                       0.647                     0.302   \n",
       "\n",
       "   Explained by: Perceptions of corruption  Dystopia + residual  \n",
       "0                                    0.481                3.253  \n",
       "1                                    0.485                2.868  \n",
       "2                                    0.413                2.839  \n",
       "3                                    0.170                2.967  \n",
       "4                                    0.384                2.798  "
      ]
     },
     "execution_count": 5,
     "metadata": {},
     "output_type": "execute_result"
    }
   ],
   "source": [
    "close_region = df_list[0].groupby('Regional indicator')\n",
    "close_region.get_group('Western Europe').head()"
   ]
  },
  {
   "cell_type": "code",
   "execution_count": 6,
   "metadata": {},
   "outputs": [
    {
     "name": "stdout",
     "output_type": "stream",
     "text": [
      "Regional indicator\n",
      "Central and Eastern Europe            5.984765\n",
      "Commonwealth of Independent States    5.467000\n",
      "East Asia                             5.810333\n",
      "Latin America and Caribbean           5.908050\n",
      "Middle East and North Africa          5.219765\n",
      "North America and ANZ                 7.128500\n",
      "South Asia                            4.441857\n",
      "Southeast Asia                        5.407556\n",
      "Sub-Saharan Africa                    4.494472\n",
      "Western Europe                        6.914905\n",
      "Name: Ladder score, dtype: float64\n",
      "Regional indicator\n",
      "Central and Eastern Europe            68.338412\n",
      "Commonwealth of Independent States    65.009500\n",
      "East Asia                             71.252167\n",
      "Latin America and Caribbean           67.076050\n",
      "Middle East and North Africa          65.609118\n",
      "North America and ANZ                 72.325000\n",
      "South Asia                            62.681000\n",
      "Southeast Asia                        64.888444\n",
      "Sub-Saharan Africa                    55.886472\n",
      "Western Europe                        73.033095\n",
      "Name: Healthy life expectancy, dtype: float64\n"
     ]
    }
   ],
   "source": [
    "print(close_region['Ladder score'].mean())\n",
    "print(close_region['Healthy life expectancy'].mean())"
   ]
  },
  {
   "cell_type": "markdown",
   "metadata": {},
   "source": [
    "## Stage Four: Plot Grouped Data¶\n"
   ]
  },
  {
   "cell_type": "code",
   "execution_count": 7,
   "metadata": {},
   "outputs": [
    {
     "name": "stdout",
     "output_type": "stream",
     "text": [
      "Commonwealth\n",
      "of\n",
      "Independent\n",
      "States\n"
     ]
    },
    {
     "data": {
      "image/png": "[encoded data removed]",
      "text/plain": [
       "<Figure size 432x288 with 1 Axes>"
      ]
     },
     "metadata": {
      "needs_background": "light"
     },
     "output_type": "display_data"
    }
   ],
   "source": [
    "import matplotlib.pyplot as plt\n",
    "import numpy as np\n",
    "plt.rcParams.update({'font.size': 7})\n",
    "\n",
    "regions = close_region['Regional indicator'].unique()\n",
    "names = [str(i) for i in regions]\n",
    "names = [name.replace(' ', '\\n') for name in names]\n",
    "names = [name.replace(\"['\",'') for name in names]\n",
    "names = [name.replace(\"']\",'') for name in names]\n",
    "\n",
    "print(names[1])\n",
    "x = np.arange(len(names))\n",
    "width = 1/len(names)\n",
    "fig, ax = plt.subplots()\n",
    "rects1 = ax.bar(x - width, close_region['Ladder score'].mean()*10, width, label='Happiness')\n",
    "rects2 = ax.bar(x, close_region['Healthy life expectancy'].mean()*10, width, label='Life Expectancy')\n",
    "rects3 = ax.bar(x + width, close_region['Freedom to make life choices'].mean()*100, width, label='Freedom')\n",
    "\n",
    "\n",
    "ax.set_ylabel('Generosity')\n",
    "ax.set_title(years[0])\n",
    "ax.set_xticks(x)\n",
    "ax.set_xticklabels(names)\n",
    "ax.legend()\n",
    "fig.tight_layout()\n",
    "\n",
    "plt.show()"
   ]
  }
 ],
 "metadata": {
  "interpreter": {
   "hash": "598d64e08a06bfba065a99698ec5bbec753236817de80e4f3bcf221574aa140c"
  },
  "kernelspec": {
   "display_name": "Python 3.8.11 64-bit ('base': conda)",
   "name": "python3"
  },
  "language_info": {
   "codemirror_mode": {
    "name": "ipython",
    "version": 3
   },
   "file_extension": ".py",
   "mimetype": "text/x-python",
   "name": "python",
   "nbconvert_exporter": "python",
   "pygments_lexer": "ipython3",
   "version": "3.8.11"
  },
  "orig_nbformat": 4
 },
 "nbformat": 4,
 "nbformat_minor": 2
}
